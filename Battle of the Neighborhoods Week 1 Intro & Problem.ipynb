{
 "cells": [
  {
   "cell_type": "markdown",
   "metadata": {},
   "source": [
    "# The Battle of the Neighborhoods - Week 1"
   ]
  },
  {
   "cell_type": "markdown",
   "metadata": {},
   "source": [
    "## Introduction"
   ]
  },
  {
   "cell_type": "markdown",
   "metadata": {},
   "source": [
    "The City of São Paulo, is the most populous city in Brazil and in the American continent, with about 12 million people. It is the financial capital of the country, as it provides lots of business opportunities and business friendly environments. It also has attracted many different kind of business into the market and can be considered a global hub of commerce. The city is a major center for banking and finance, retailing, world trade, transportation, tourism, real estate, media, advertising, legal services, accountancy, insurance, arts, fashion, and gastronomy in Brazil.\n",
    "\n",
    "This also means that the market is highly competitive. As it is a highly developed city, the cost of doing business is also one of the highest. Thus, any new business venture or expansion needs to be analysed carefully. The insights derived from analysis will give good understanding of the business environment which help in strategically targeting the market. This will help in reduction of risk. And the Return on Investment will be reasonable."
   ]
  },
  {
   "cell_type": "markdown",
   "metadata": {},
   "source": [
    "## Business Problem"
   ]
  },
  {
   "cell_type": "markdown",
   "metadata": {},
   "source": [
    "One of our clients, Luke Skywalker, wants to open a Burger Joint somewhere in São Paulo, Brazil, and is asking for our help in finding the best Location.\n",
    "\n",
    "In order to open Luke's burger joint, we will need to gather some informations about the Localities in São Paulo.\n",
    "We must be sure that the place where the burger joint is opened will have enough customers and also that there aren't a large amount of burger joints near the place."
   ]
  }
 ],
 "metadata": {
  "kernelspec": {
   "display_name": "Python 3.6",
   "language": "python",
   "name": "python3"
  },
  "language_info": {
   "codemirror_mode": {
    "name": "ipython",
    "version": 3
   },
   "file_extension": ".py",
   "mimetype": "text/x-python",
   "name": "python",
   "nbconvert_exporter": "python",
   "pygments_lexer": "ipython3",
   "version": "3.6.8"
  }
 },
 "nbformat": 4,
 "nbformat_minor": 1
}
