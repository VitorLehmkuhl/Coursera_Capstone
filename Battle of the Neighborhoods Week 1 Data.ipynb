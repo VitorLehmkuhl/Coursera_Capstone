{
 "cells": [
  {
   "cell_type": "markdown",
   "metadata": {
    "collapsed": true
   },
   "source": [
    "# The Battle of the Neighborhoods - Week 1"
   ]
  },
  {
   "cell_type": "markdown",
   "metadata": {},
   "source": [
    "## Data"
   ]
  },
  {
   "cell_type": "markdown",
   "metadata": {},
   "source": [
    "To help Luke in his search we will need to access the following data:\n",
    "- The Localities of the city of São Paulo from Wikipedia: https://pt.wikipedia.org/wiki/Divis%C3%A3o_territorial_e_administrativa_do_munic%C3%ADpio_de_S%C3%A3o_Paulo;\n",
    "- The coordinates (latitude, longitude) ot these Localities from Open Street Map APIs;\n",
    "- From Foursquare we will need following venues data:\n",
    "    - the burger joint venues of the Localities;\n",
    "    - the offices venues of the Localities- the high schools venues of the Localities;\n",
    "    - the universities venues of the Localities.\n",
    "\n",
    "We will then leverage the data in order to determine which locality is the most appropriate in order to open a burger joint. "
   ]
  }
 ],
 "metadata": {
  "kernelspec": {
   "display_name": "Python 3.6",
   "language": "python",
   "name": "python3"
  },
  "language_info": {
   "codemirror_mode": {
    "name": "ipython",
    "version": 3
   },
   "file_extension": ".py",
   "mimetype": "text/x-python",
   "name": "python",
   "nbconvert_exporter": "python",
   "pygments_lexer": "ipython3",
   "version": "3.6.8"
  }
 },
 "nbformat": 4,
 "nbformat_minor": 1
}
